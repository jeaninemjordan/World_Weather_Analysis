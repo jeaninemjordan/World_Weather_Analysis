{
 "cells": [
  {
   "cell_type": "code",
   "execution_count": null,
   "id": "ad659e6b",
   "metadata": {},
   "outputs": [],
   "source": [
    "# Import the dependencies.\n",
    "import numpy as np\n",
    "import pandas as pd\n",
    "import matplotlib.pyplot as plt"
   ]
  },
  {
   "cell_type": "code",
   "execution_count": null,
   "id": "709c6a92",
   "metadata": {},
   "outputs": [],
   "source": [
    "# Create a set of random latitude and longitude combinations.\n",
    "lats = np.random.uniform(low=-90.000, high=90.000, size=1500)\n",
    "lngs = np.random.uniform(low=-180.000, high=180.000, size=1500)\n",
    "lat_lngs = zip(lats, lngs)\n",
    "lat_lngs"
   ]
  },
  {
   "cell_type": "code",
   "execution_count": null,
   "id": "8c2b906f",
   "metadata": {},
   "outputs": [],
   "source": [
    "# Add the latitudes and longitudes in a list.\n",
    "coordinates = list(lat_lngs)"
   ]
  },
  {
   "cell_type": "code",
   "execution_count": null,
   "id": "5d799785",
   "metadata": {},
   "outputs": [],
   "source": [
    "# import the citipy module.\n",
    "from citipy import citipy"
   ]
  },
  {
   "cell_type": "code",
   "execution_count": null,
   "id": "e59681a9",
   "metadata": {},
   "outputs": [],
   "source": [
    "# Create a list for holding the cities.\n",
    "cities=[]\n",
    "#Identify the nearest city for each latitude and longitude combination.\n",
    "for coordinate in coordinates:\n",
    "    city = citipy.nearest_city(coordinate[0], coordinate[1]).city_name\n",
    "    \n",
    "    #If the city is unique, then we will add it to the cities list.\n",
    "    if city not in cities:\n",
    "        cities.append(city)\n",
    "        \n",
    "# Print the city count to confirm sufficient count.\n",
    "len(cities)"
   ]
  },
  {
   "cell_type": "code",
   "execution_count": null,
   "id": "0c53767b",
   "metadata": {},
   "outputs": [],
   "source": [
    "# Import the requests library.\n",
    "import requests\n",
    "\n",
    "#Import the API key.\n",
    "from config import weather_api_key"
   ]
  },
  {
   "cell_type": "code",
   "execution_count": null,
   "id": "afb3b476",
   "metadata": {},
   "outputs": [],
   "source": [
    "# Starting URL for weather map API call.\n",
    "url=\"http://api.openweathermap.org/data/2.5/weather?units=Imperial&APPID=\" + weather_api_key"
   ]
  },
  {
   "cell_type": "code",
   "execution_count": null,
   "id": "93c9ce81",
   "metadata": {},
   "outputs": [],
   "source": [
    "# Import the time library and the datetime module from the datetime library \n",
    "from datetime import datetime"
   ]
  },
  {
   "cell_type": "code",
   "execution_count": null,
   "id": "db8547bb",
   "metadata": {},
   "outputs": [],
   "source": [
    "#Create an empty list to hold the weather data.\n",
    "city_data = []\n",
    "\n",
    "# Print the beginning of the logging.\n",
    "print(\"Beginning Data Retrieval     \")\n",
    "print(\"-----------------------------\")\n",
    "\n",
    "#Create counters.\n",
    "record_count = 1\n",
    "set_count = 1\n",
    "\n",
    "# Loop through all the cities in our list.\n",
    "for i, city in enumerate(cities):\n",
    "    \n",
    "    # Group cities in sets of 50 for logging purposes.\n",
    "    if(i % 50 ==0 and i>=50):\n",
    "        set_count += 1\n",
    "        record_count = 1\n",
    "        \n",
    "    #Create endpoint URL with each city.\n",
    "    city_url = url + \"&q=\" + city\n",
    "        \n",
    "    #log the URL, record, and set numbers and the city.\n",
    "    print(f\"Processing Record {record_count} of Set {set_count} | {city}\")\n",
    "        \n",
    "    #Add 1 to the record count.\n",
    "    record_count += 1\n",
    "        \n",
    "    #Run an API request for each of the cities.\n",
    "    try:\n",
    "         #Parse the JSON and retrieve the data.\n",
    "        city_weather = requests.get(city_url).json()\n",
    "        \n",
    "        #Parse out the needed data.\n",
    "        city_lat = city_weather[\"coord\"][\"lat\"]\n",
    "        city_lng = city_weather[\"coord\"][\"lon\"]\n",
    "        city_max_temp = city_weather[\"main\"][\"temp_max\"]\n",
    "        city_humidity = city_weather[\"main\"][\"humidity\"]\n",
    "        city_clouds = city_weather[\"clouds\"][\"all\"]\n",
    "        city_wind = city_weather[\"wind\"][\"speed\"]\n",
    "        city_country = city_weather[\"sys\"][\"country\"]\n",
    "            \n",
    "        # Convert the date to ISO standard.\n",
    "        city_date = datetime.utcfromtimestamp(city_weather[\"dt\"]).strftime('%Y-%m-%d %H:%M:%S')\n",
    "            \n",
    "        #Append the city information into city_data list.\n",
    "        city_data.append({\"City\": city.title(),\n",
    "                             \"Lat\": city_lat,\n",
    "                             \"Lng\": city_lng,\n",
    "                             \"Max Temp\": city_max_temp,\n",
    "                             \"Humidity\": city_humidity,\n",
    "                             \"Cloudiness\": city_clouds,\n",
    "                             \"Wind Speed\": city_wind,\n",
    "                             \"Country\": city_country,\n",
    "                             \"Date\": city_date})\n",
    "        \n",
    "    #If an error is experienced, skip the city.\n",
    "    except:\n",
    "        print(\"City not found. Skipping...\")\n",
    "        pass\n",
    "    \n",
    "#Indicate the Data Loading is complete.\n",
    "print(\"------------------------------\")\n",
    "print(\"Data Retrieval Complete       \")\n",
    "print(\"------------------------------\")       "
   ]
  },
  {
   "cell_type": "code",
   "execution_count": null,
   "id": "99ca2a26",
   "metadata": {},
   "outputs": [],
   "source": [
    "len(city_data)"
   ]
  },
  {
   "cell_type": "code",
   "execution_count": null,
   "id": "eb7ae1ff",
   "metadata": {},
   "outputs": [],
   "source": [
    "#Convert the array of dictionaries to a Pandas DataFrame.\n",
    "city_data_df = pd.DataFrame(city_data)\n",
    "city_data_df.head(10)"
   ]
  },
  {
   "cell_type": "code",
   "execution_count": null,
   "id": "d2b9427d",
   "metadata": {},
   "outputs": [],
   "source": [
    "new_column_order = [\"City\",\"Country\",\"Date\",\"Lat\",\"Lng\",\"Max Temp\",\"Humidity\",\"Cloudiness\",\"Wind Speed\"]\n",
    "city_data_df = city_data_df[new_column_order]\n",
    "city_data_df.head(10)"
   ]
  },
  {
   "cell_type": "code",
   "execution_count": null,
   "id": "b052e641",
   "metadata": {},
   "outputs": [],
   "source": [
    "# Create the output file (CSV).\n",
    "output_data_file = \"weather_data/cities.csv\"\n",
    "\n",
    "#Export the City_Data into a CSV.\n",
    "city_data_df.to_csv(output_data_file, index_label = \"City_ID\")"
   ]
  },
  {
   "cell_type": "code",
   "execution_count": null,
   "id": "413b29ec",
   "metadata": {},
   "outputs": [],
   "source": [
    "#Extract relevant fields from the dataframe for plotting.\n",
    "lats = city_data_df[\"Lat\"]\n",
    "max_temps = city_data_df[\"Max Temp\"]\n",
    "humidity = city_data_df[\"Humidity\"]\n",
    "cloudiness = city_data_df[\"Cloudiness\"]\n",
    "wind_speed = city_data_df[\"Wind Speed\"]"
   ]
  },
  {
   "cell_type": "code",
   "execution_count": null,
   "id": "6ee1c4f2",
   "metadata": {},
   "outputs": [],
   "source": [
    "#Import the time module.\n",
    "import time\n",
    "\n",
    "# Get today's date.\n",
    "today = time.strftime(\"%x\")\n",
    "today"
   ]
  },
  {
   "cell_type": "code",
   "execution_count": null,
   "id": "8539284b",
   "metadata": {},
   "outputs": [],
   "source": [
    "#Build the scatter plot for latitude vs. max temperature.\n",
    "plt.scatter(lats,\n",
    "           max_temps,\n",
    "           edgecolor=\"black\", linewidths=1, marker=\"o\",\n",
    "           alpha=0.8, label=\"Cities\")\n",
    "\n",
    "#Incorporate the other graph properties.\n",
    "plt.title(\"City Latitude vs. Max Temperature \" + time.strftime(\"%x\") )\n",
    "plt.ylabel(\"Max Temperature (F)\")\n",
    "plt.xlabel(\"Latitude\")\n",
    "plt.grid(True)\n",
    "\n",
    "#Save the figure.\n",
    "plt.savefig(\"weather_data/Fig1.png\")\n",
    "\n",
    "#Show plot.\n",
    "plt.show()"
   ]
  },
  {
   "cell_type": "code",
   "execution_count": null,
   "id": "8650a6df",
   "metadata": {},
   "outputs": [],
   "source": [
    "#Build the scatter plot for latitude vs. humidity.\n",
    "plt.scatter(lats,\n",
    "           humidity,\n",
    "           edgecolor=\"black\", linewidths=1, marker=\"o\",\n",
    "           alpha=0.8, label=\"Cities\")\n",
    "\n",
    "#Incorporate the other graph properties.\n",
    "plt.title(\"City Latitude vs. Humidity \" + time.strftime(\"%x\") )\n",
    "plt.ylabel(\"Humidity (%)\")\n",
    "plt.xlabel(\"Latitude\")\n",
    "plt.grid(True)\n",
    "\n",
    "#Save the figure.\n",
    "plt.savefig(\"weather_data/Fig2.png\")\n",
    "\n",
    "#Show plot.\n",
    "plt.show()"
   ]
  },
  {
   "cell_type": "code",
   "execution_count": null,
   "id": "ac40bb97",
   "metadata": {},
   "outputs": [],
   "source": [
    "#Build the scatter plot for latitude vs. cloudiness.\n",
    "plt.scatter(lats,\n",
    "           cloudiness,\n",
    "           edgecolor=\"black\", linewidths=1, marker=\"o\",\n",
    "           alpha=0.8, label=\"Cities\")\n",
    "\n",
    "#Incorporate the other graph properties.\n",
    "plt.title(\"City Latitude vs. Cloudiness(%) \" + time.strftime(\"%x\") )\n",
    "plt.ylabel(\"Cloudiness (%)\")\n",
    "plt.xlabel(\"Latitude\")\n",
    "plt.grid(True)\n",
    "\n",
    "#Save the figure.\n",
    "plt.savefig(\"weather_data/Fig3.png\")\n",
    "\n",
    "#Show plot.\n",
    "plt.show()"
   ]
  },
  {
   "cell_type": "code",
   "execution_count": null,
   "id": "26479a04",
   "metadata": {},
   "outputs": [],
   "source": [
    "#Build the scatter plot for latitude vs. wind speed.\n",
    "plt.scatter(lats,\n",
    "           wind_speed,\n",
    "           edgecolor=\"black\", linewidths=1, marker=\"o\",\n",
    "           alpha=0.8, label=\"Cities\")\n",
    "\n",
    "#Incorporate the other graph properties.\n",
    "plt.title(\"City Latitude vs. Wind Speed \" + time.strftime(\"%x\") )\n",
    "plt.ylabel(\"Wind Speed (mph)\")\n",
    "plt.xlabel(\"Latitude\")\n",
    "plt.grid(True)\n",
    "\n",
    "#Save the figure.\n",
    "plt.savefig(\"weather_data/Fig4.png\")\n",
    "\n",
    "#Show plot.\n",
    "plt.show()"
   ]
  },
  {
   "cell_type": "code",
   "execution_count": null,
   "id": "8d1cab3e",
   "metadata": {},
   "outputs": [],
   "source": [
    "#Import linear regression from the Scipy stats module.\n",
    "from scipy.stats import linregress"
   ]
  },
  {
   "cell_type": "code",
   "execution_count": null,
   "id": "6bff5ee0",
   "metadata": {},
   "outputs": [],
   "source": [
    "# Create an equal number of latitudes and temperatures.\n",
    "lats = [42.5, 43.9, 8.1, 36.8, 79.9, 69.1, 25.7, 15.3, 12.7, 64.5]\n",
    "temps = [80.5, 75.3, 90.9, 90.0, 40.4, 62.3, 85.4, 79.6, 72.5, 72.0]"
   ]
  },
  {
   "cell_type": "code",
   "execution_count": null,
   "id": "bc0e3a8b",
   "metadata": {},
   "outputs": [],
   "source": [
    "# Perform linear regression.\n",
    "(slope, intercept, r_value, p_value, std_err) = linregress(lats, temps)\n",
    "\n",
    "# Get the equation of the line.\n",
    "line_eq = \"y = \" + str(round(slope,2)) + \"x + \" + str(round(intercept,2))\n",
    "print(line_eq)\n",
    "print(f\"The p-value is: {p_value:.3f}\")"
   ]
  },
  {
   "cell_type": "code",
   "execution_count": null,
   "id": "e504accb",
   "metadata": {},
   "outputs": [],
   "source": [
    "# Calculate the regression line \"y values\" from the slope and intercept.\n",
    "regress_values = [(lat * slope + intercept) for lat in lats]"
   ]
  },
  {
   "cell_type": "code",
   "execution_count": null,
   "id": "2371d9bc",
   "metadata": {},
   "outputs": [],
   "source": [
    "# Create a scatter plot of the x and y values.\n",
    "plt.scatter(lats,temps)\n",
    "# Plot the regression line with the x-values and the y coordinates based on the intercept and slope.\n",
    "plt.plot(lats,regress_values,\"r\")\n",
    "# Annotate the text for the line equation and add its coordinates.\n",
    "plt.annotate(line_eq, (10,40), fontsize=15, color=\"red\")\n",
    "plt.xlabel('Latitude')\n",
    "plt.ylabel('Temp')\n",
    "plt.show()"
   ]
  },
  {
   "cell_type": "code",
   "execution_count": null,
   "id": "3cbacbb8",
   "metadata": {},
   "outputs": [],
   "source": [
    "# Perform linear regression.\n",
    "(slope, intercept, r_value, p_value, std_err) = linregress(x_values, y_values)\n",
    "\n",
    "# Calculate the regression line \"y values\" from the slope and intercept.\n",
    "regress_values = x_values * slope + intercept\n",
    "\n",
    "# Get the equation of the line.\n",
    "line_eq = \"y = \" + str(round(slope,2)) + \"x + \" + str(round(intercept,2))\n",
    "\n",
    "# Create a scatter plot of the x and y values.\n",
    "plt.scatter(x_values,y_values)\n",
    "# Plot the regression line with the x-values and the y coordinates based on the intercept and slope.\n",
    "plt.plot(x_values,regress_values,\"r\")\n",
    "# Annotate the text for the line equation and add its coordinates.\n",
    "plt.annotate(line_eq, (10,40), fontsize=15, color=\"red\")\n",
    "plt.title(title)\n",
    "plt.xlabel('Latitude')\n",
    "plt.ylabel('Temp')\n",
    "plt.show()"
   ]
  },
  {
   "cell_type": "code",
   "execution_count": null,
   "id": "ac1e06b3",
   "metadata": {},
   "outputs": [],
   "source": [
    "# Import linregress\n",
    "from scipy.stats import linregress\n",
    "\n",
    "# Create a function to create perform linear regression on the weather data and plot a regression line and the equation with the data.\n",
    "def plot_linear_regression(x_values, y_values, title, y_label, text_coordinates):\n",
    "\n",
    "    # Run regression on hemisphere weather data.\n",
    "    (slope, intercept, r_value, p_value, std_err) = linregress(x_values, y_values)\n",
    "\n",
    "    # Calculate the regression line \"y values\" from the slope and intercept.\n",
    "    regress_values = x_values * slope + intercept\n",
    "    \n",
    "    # Get the equation of the line.\n",
    "    line_eq = \"y = \" + str(round(slope,2)) + \"x + \" + str(round(intercept,2))\n",
    "    \n",
    "    # Create a scatter plot and plot the regression line.\n",
    "    plt.scatter(x_values,y_values)\n",
    "    plt.plot(x_values,regress_values,\"r\")\n",
    "    \n",
    "    # Annotate the text for the line equation.\n",
    "    plt.annotate(line_eq, text_coordinates, fontsize=15, color=\"red\")\n",
    "    plt.title(title)\n",
    "    plt.xlabel('Latitude')\n",
    "    plt.ylabel(y_label)\n",
    "    plt.show()"
   ]
  },
  {
   "cell_type": "code",
   "execution_count": null,
   "id": "bbafd899",
   "metadata": {},
   "outputs": [],
   "source": [
    "index13 = city_data_df.loc[13]\n",
    "index13"
   ]
  },
  {
   "cell_type": "code",
   "execution_count": null,
   "id": "99b87523",
   "metadata": {},
   "outputs": [],
   "source": [
    "city_data_df[\"Lat\"] >= 0"
   ]
  },
  {
   "cell_type": "code",
   "execution_count": null,
   "id": "9fa73d1c",
   "metadata": {},
   "outputs": [],
   "source": [
    "city_data_df.loc[(city_data_df[\"Lat\"] >= 0)].head()"
   ]
  },
  {
   "cell_type": "code",
   "execution_count": null,
   "id": "c3bb7209",
   "metadata": {},
   "outputs": [],
   "source": [
    "# Create Northern and Southern Hemisphere dataframes.\n",
    "northern_hemi_df = city_data_df.loc[(city_data_df[\"Lat\"] >= 0)]\n",
    "southern_hemi_df = city_data_df.loc[(city_data_df[\"Lat\"] < 0)]"
   ]
  },
  {
   "cell_type": "code",
   "execution_count": null,
   "id": "b77296ae",
   "metadata": {},
   "outputs": [],
   "source": [
    "# Linear regression on the Northern Hemisphere\n",
    "x_values = northern_hemi_df[\"Lat\"]\n",
    "y_values = northern_hemi_df[\"Max Temp\"]\n",
    "\n",
    "#Call the function.\n",
    "plot_linear_regression(x_values,y_values,\n",
    "                       \"Linear Regression on the Northern Hemisphere\\n for Maximum Temperature\", \"Max Temp\", (10,-20))"
   ]
  },
  {
   "cell_type": "code",
   "execution_count": null,
   "id": "7b4ac085",
   "metadata": {},
   "outputs": [],
   "source": [
    "#Linear regression on the Southern Hemisphere.\n",
    "x_values = southern_hemi_df[\"Lat\"]\n",
    "y_values = southern_hemi_df[\"Max Temp\"]\n",
    "\n",
    "#Call the function.\n",
    "plot_linear_regression(x_values, y_values,\n",
    "                      \"Linear Regression on the Southern Hemisphere\\n for Maximum Temperature\", \"Max Temp\", (-50,90))"
   ]
  },
  {
   "cell_type": "code",
   "execution_count": null,
   "id": "24b0b71a",
   "metadata": {},
   "outputs": [],
   "source": [
    "#linear regression on the Northern Hemisphere.\n",
    "x_values = northern_hemi_df[\"Lat\"]\n",
    "y_values = northern_hemi_df[\"Humidity\"]\n",
    "\n",
    "#Call the function.\n",
    "plot_linear_regression(x_values,y_values,\n",
    "                       \"Linear Regression on the Northern Hemisphere\\n for % Humidity\", \"% Humidity\", (45,20))"
   ]
  },
  {
   "cell_type": "code",
   "execution_count": null,
   "id": "52d6a27d",
   "metadata": {},
   "outputs": [],
   "source": [
    "#Linear regression on the Southern Hemisphere.\n",
    "x_values = southern_hemi_df[\"Lat\"]\n",
    "y_values = southern_hemi_df[\"Humidity\"]\n",
    "\n",
    "#Call the function.\n",
    "plot_linear_regression(x_values, y_values,\n",
    "                      \"Linear Regression on the Southern Hemisphere\\n for % Humidity\", \"% Humidity\", (-55,30))"
   ]
  },
  {
   "cell_type": "code",
   "execution_count": null,
   "id": "f6a456fe",
   "metadata": {},
   "outputs": [],
   "source": [
    "#linear regression on the Northern Hemisphere.\n",
    "x_values = northern_hemi_df[\"Lat\"]\n",
    "y_values = northern_hemi_df[\"Cloudiness\"]\n",
    "\n",
    "#Call the function.\n",
    "plot_linear_regression(x_values,y_values,\n",
    "                       \"Linear Regression on the Northern Hemisphere\\n for % Cloudiness\", \"% Cloudiness\", (45,30))"
   ]
  },
  {
   "cell_type": "code",
   "execution_count": null,
   "id": "53cd3e38",
   "metadata": {},
   "outputs": [],
   "source": [
    "#Linear regression on the Southern Hemisphere.\n",
    "x_values = southern_hemi_df[\"Lat\"]\n",
    "y_values = southern_hemi_df[\"Cloudiness\"]\n",
    "\n",
    "#Call the function.\n",
    "plot_linear_regression(x_values, y_values,\n",
    "                      \"Linear Regression on the Southern Hemisphere\\n for % Cloudiness\", \"% Cloudiness\", (-50,10))"
   ]
  },
  {
   "cell_type": "code",
   "execution_count": null,
   "id": "d5699106",
   "metadata": {},
   "outputs": [],
   "source": [
    "#linear regression on the Northern Hemisphere.\n",
    "x_values = northern_hemi_df[\"Lat\"]\n",
    "y_values = northern_hemi_df[\"Wind Speed\"]\n",
    "\n",
    "#Call the function.\n",
    "plot_linear_regression(x_values,y_values,\n",
    "                       \"Linear Regression on the Northern Hemisphere\\n for Wind Speed\", \"Wind Speed\", (10,60))"
   ]
  },
  {
   "cell_type": "code",
   "execution_count": 89,
   "id": "798c0402",
   "metadata": {},
   "outputs": [
    {
     "data": {
      "image/png": "[encoded data removed]",
      "text/plain": [
       "<Figure size 432x288 with 1 Axes>"
      ]
     },
     "metadata": {
      "needs_background": "light"
     },
     "output_type": "display_data"
    },
    {
     "name": "stdout",
     "output_type": "stream",
     "text": [
      "The r-value is -0.301\n"
     ]
    }
   ],
   "source": [
    "#Linear regression on the Southern Hemisphere.\n",
    "x_values = southern_hemi_df[\"Lat\"]\n",
    "y_values = southern_hemi_df[\"Wind Speed\"]\n",
    "\n",
    "#Call the function.\n",
    "plot_linear_regression(x_values, y_values,\n",
    "                      \"Linear Regression on the Southern Hemisphere\\n for Wind Speed\", \"Wind Speed\", (-50,20))"
   ]
  }
 ],
 "metadata": {
  "kernelspec": {
   "display_name": "Python 3 (ipykernel)",
   "language": "python",
   "name": "python3"
  },
  "language_info": {
   "codemirror_mode": {
    "name": "ipython",
    "version": 3
   },
   "file_extension": ".py",
   "mimetype": "text/x-python",
   "name": "python",
   "nbconvert_exporter": "python",
   "pygments_lexer": "ipython3",
   "version": "3.7.13"
  }
 },
 "nbformat": 4,
 "nbformat_minor": 5
}
